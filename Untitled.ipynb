{
 "cells": [
  {
   "cell_type": "code",
   "execution_count": null,
   "id": "3c55302a-e6bb-4d58-822a-853ed0006c4e",
   "metadata": {},
   "outputs": [],
   "source": []
  }
 ],
 "metadata": {
  "kernelspec": {
   "display_name": "",
   "name": ""
  },
  "language_info": {
   "name": ""
  }
 },
 "nbformat": 4,
 "nbformat_minor": 5
}
