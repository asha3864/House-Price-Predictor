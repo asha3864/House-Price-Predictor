{
 "cells": [
  {
   "cell_type": "code",
   "execution_count": 3,
   "id": "81d3315c-7e7d-4046-8a89-bd00146d1135",
   "metadata": {},
   "outputs": [
    {
     "data": {
      "text/plain": [
       "array([22.264])"
      ]
     },
     "execution_count": 3,
     "metadata": {},
     "output_type": "execute_result"
    }
   ],
   "source": [
    "from joblib import dump, load\n",
    "import numpy as np\n",
    "model=load(\"Dragon.joblib\")\n",
    "features=np.array([[-0.43942006,  3.12628155, -1.12165014, -0.27288841, -1.42262747,\n",
    "       -0.23979304, -1.31238772,  2.61111401, -1.0016859 , -0.5778192 ,\n",
    "       -0.97491834,  0.41164221, -0.86091034]])\n",
    "model.predict(features)\n"
   ]
  },
  {
   "cell_type": "code",
   "execution_count": 2,
   "id": "171a92cf-4c5c-42c8-8c38-816310faf223",
   "metadata": {},
   "outputs": [
    {
     "data": {
      "text/plain": [
       "array([22.264])"
      ]
     },
     "execution_count": 2,
     "metadata": {},
     "output_type": "execute_result"
    }
   ],
   "source": []
  },
  {
   "cell_type": "code",
   "execution_count": null,
   "id": "640dd8a2-54d7-47fc-b204-606962a5ac24",
   "metadata": {},
   "outputs": [],
   "source": []
  }
 ],
 "metadata": {
  "kernelspec": {
   "display_name": "Python 3 (ipykernel)",
   "language": "python",
   "name": "python3"
  },
  "language_info": {
   "codemirror_mode": {
    "name": "ipython",
    "version": 3
   },
   "file_extension": ".py",
   "mimetype": "text/x-python",
   "name": "python",
   "nbconvert_exporter": "python",
   "pygments_lexer": "ipython3",
   "version": "3.12.2"
  }
 },
 "nbformat": 4,
 "nbformat_minor": 5
}
